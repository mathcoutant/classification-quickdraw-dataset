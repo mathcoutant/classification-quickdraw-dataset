{
 "cells": [
  {
   "cell_type": "markdown",
   "id": "f76583b2",
   "metadata": {},
   "source": [
    "# Classification based on Quickdraw Dataset"
   ]
  },
  {
   "cell_type": "markdown",
   "id": "0cc18d27",
   "metadata": {},
   "source": [
    "### Imports"
   ]
  },
  {
   "cell_type": "code",
   "execution_count": 1,
   "id": "d0789760",
   "metadata": {},
   "outputs": [],
   "source": [
    "import os\n",
    "from PIL import Image\n",
    "import json\n",
    "\n",
    "import random\n",
    "import numpy as np\n",
    "import cairocffi as cairo\n",
    "import matplotlib.pyplot as plt\n",
    "\n",
    "import torch\n",
    "import torch.nn as nn\n",
    "import torch.nn.functional as F\n",
    "import torch.optim as optim\n",
    "from torch.utils.data import Dataset\n",
    "from torchvision import transforms\n",
    "from torchvision.io import read_image, ImageReadMode\n",
    "from torch.optim.lr_scheduler import StepLR"
   ]
  },
  {
   "cell_type": "markdown",
   "id": "9a0ab56d",
   "metadata": {},
   "source": [
    "### Functions to preprocess the data"
   ]
  },
  {
   "cell_type": "code",
   "execution_count": 3,
   "id": "0e370421",
   "metadata": {},
   "outputs": [],
   "source": [
    "# Get the classes that will be used\n",
    "def load_classes(file_path):\n",
    "    res = {}\n",
    "    count = 0\n",
    "    for line in open(file_path, 'r'):\n",
    "        res[count] = line.rstrip()\n",
    "        count+=1\n",
    "    return res"
   ]
  },
  {
   "cell_type": "code",
   "execution_count": 4,
   "id": "516c92ca",
   "metadata": {},
   "outputs": [],
   "source": [
    "### The code is taken from the original GitHub of the QuickDrawDataset\n",
    "def vector_to_raster(vector_images, side=64, line_diameter=16, padding=16, bg_color=(0,0,0), fg_color=(1,1,1)):\n",
    "    \n",
    "    original_side = 256.\n",
    "    \n",
    "    surface = cairo.ImageSurface(cairo.FORMAT_ARGB32, side, side)\n",
    "    ctx = cairo.Context(surface)\n",
    "    ctx.set_antialias(cairo.ANTIALIAS_BEST)\n",
    "    ctx.set_line_cap(cairo.LINE_CAP_ROUND)\n",
    "    ctx.set_line_join(cairo.LINE_JOIN_ROUND)\n",
    "    ctx.set_line_width(line_diameter)\n",
    "\n",
    "    # scale to match the new size\n",
    "    # add padding at the edges for the line_diameter\n",
    "    # and add additional padding to account for antialiasing\n",
    "    total_padding = padding * 2. + line_diameter\n",
    "    new_scale = float(side) / float(original_side + total_padding)\n",
    "    ctx.scale(new_scale, new_scale)\n",
    "    ctx.translate(total_padding / 2., total_padding / 2.)\n",
    "\n",
    "    raster_images = []\n",
    "    for vector_image in vector_images:\n",
    "        # clear background\n",
    "        ctx.set_source_rgb(*bg_color)\n",
    "        ctx.paint()\n",
    "        \n",
    "        bbox = np.hstack(vector_image).max(axis=1)\n",
    "        offset = ((original_side, original_side) - bbox) / 2.\n",
    "        offset = offset.reshape(-1,1)\n",
    "        centered = [stroke + offset for stroke in vector_image]\n",
    "\n",
    "        # draw strokes, this is the most cpu-intensive part\n",
    "        ctx.set_source_rgb(*fg_color)        \n",
    "        for xv, yv in centered:\n",
    "            ctx.move_to(xv[0], yv[0])\n",
    "            for x, y in zip(xv, yv):\n",
    "                ctx.line_to(x, y)\n",
    "            ctx.stroke()\n",
    "\n",
    "        data = surface.get_data()\n",
    "        raster_image = np.copy(np.asarray(data)[::4])\n",
    "        raster_images.append(raster_image)\n",
    "    \n",
    "    return raster_images"
   ]
  },
  {
   "cell_type": "code",
   "execution_count": 5,
   "id": "2332ddf9",
   "metadata": {},
   "outputs": [],
   "source": [
    "# return the data as an array containing images as 1D arrays\n",
    "def load_data(sample, n_images, dimension):\n",
    "    sample_data = [json.loads(line) for line in open(f'data/full_simplified_{sample}.ndjson', 'r')]\n",
    "    sample_data = random.sample(sample_data, k=n_images)\n",
    "    vector_images = [drawing_data['drawing'] for drawing_data in sample_data]\n",
    "    return np.array(vector_to_raster(vector_images, side=dimension))"
   ]
  },
  {
   "cell_type": "code",
   "execution_count": 6,
   "id": "d906aa7b",
   "metadata": {},
   "outputs": [],
   "source": [
    "# Saves the datasets as images in the \"images\" folder\n",
    "def save_png(drawing_class, data, dimension):\n",
    "    if not os.path.exists(f\"images/{drawing_class}\"): \n",
    "        os.makedirs(f\"images/{drawing_class}\")\n",
    "\n",
    "    count = 0\n",
    "    for image_arr in data:\n",
    "        image_arr = np.reshape(image_arr, (dimension, -1))\n",
    "        img = Image.fromarray(image_arr, \"L\")\n",
    "        img.save(f\"images/{drawing_class}/{drawing_class}_{count}.png\")\n",
    "        count += 1\n",
    "    "
   ]
  },
  {
   "cell_type": "code",
   "execution_count": 17,
   "id": "ead76647",
   "metadata": {},
   "outputs": [],
   "source": [
    "def preprocess_data(classes, n_images, img_dim, train_prop=0.8):\n",
    "  train_file_names = []\n",
    "  train_labels = []\n",
    "  test_file_names = []\n",
    "  test_labels = []\n",
    "  \n",
    "  for key, drawing_class in classes.items():\n",
    "      print(f\"Loading {drawing_class} data\")\n",
    "      data = load_data(drawing_class, n_images, dimension = img_dim)\n",
    "      save_png(drawing_class, data, img_dim)\n",
    "      file_names = [f\"images/{drawing_class}/{drawing_class}_{i}.png\" for i in range(len(data))]\n",
    "      labels = np.full(len(data), key)\n",
    "      train_file_names.append(file_names[:(int)(n_images*train_prop)])\n",
    "      train_labels.append(labels[:(int)(n_images*train_prop)])\n",
    "      test_file_names.append(file_names[(int)(n_images*train_prop):])\n",
    "      test_labels.append(labels[(int)(n_images*train_prop):])\n",
    "\n",
    "  # Save the file names and labels\n",
    "  train_file_names = np.array(train_file_names).flatten()\n",
    "  json.dump(train_file_names.tolist(), open(\"train_file_names.json\", 'w'))\n",
    "  train_labels = np.array(train_labels).flatten()\n",
    "  json.dump(train_labels.tolist(), open(\"train_labels.json\", 'w'))\n",
    "  test_file_names = np.array(test_file_names).flatten()\n",
    "  json.dump(test_file_names.tolist(), open(\"test_file_names.json\", 'w'))\n",
    "  test_labels = np.array(test_labels).flatten()\n",
    "  json.dump(test_labels.tolist(), open(\"test_labels.json\", 'w'))"
   ]
  },
  {
   "cell_type": "code",
   "execution_count": 18,
   "id": "d826f1e1",
   "metadata": {},
   "outputs": [],
   "source": [
    "def calcMeanStd(datasets):\n",
    "    data = []\n",
    "    for dataset in datasets:\n",
    "        for file_name in dataset:\n",
    "            img = Image.open(file_name)\n",
    "            img = np.array(img)\n",
    "            data.append(img)\n",
    "    data = np.array(data)\n",
    "    return np.mean(data), np.std(data)"
   ]
  },
  {
   "cell_type": "markdown",
   "id": "75ba1702",
   "metadata": {},
   "source": [
    "### Dataset class that represent the Dataset"
   ]
  },
  {
   "cell_type": "code",
   "execution_count": 8,
   "id": "555f9c17",
   "metadata": {},
   "outputs": [],
   "source": [
    "class QuickDrawDataset(Dataset):\n",
    "    def __init__(self, file_names, labels, transform=None):\n",
    "        self.file_names = file_names\n",
    "        self.labels = labels\n",
    "        self.transform = transform\n",
    "\n",
    "    def __len__(self):\n",
    "        return len(self.labels)\n",
    "\n",
    "    def __getitem__(self, idx):\n",
    "        image = Image.open(self.file_names[idx])\n",
    "        label = self.labels[idx]\n",
    "        if self.transform:\n",
    "            image = self.transform(image)\n",
    "        return image, label"
   ]
  },
  {
   "cell_type": "markdown",
   "id": "ca09cf0f",
   "metadata": {},
   "source": [
    "### Functions for the CNN"
   ]
  },
  {
   "cell_type": "code",
   "execution_count": 9,
   "id": "5d8391a9",
   "metadata": {},
   "outputs": [],
   "source": [
    "class Net(nn.Module):\n",
    "    def __init__(self, n_classes):\n",
    "        super(Net, self).__init__()\n",
    "        self.conv1 = nn.Conv2d(1, 8, 3) # To increase maybe to 16\n",
    "        self.conv2 = nn.Conv2d(8, 16, 3)# To increase maybe to 32\n",
    "        self.pool = nn.MaxPool2d(2, 2)\n",
    "        self.dropout1 = nn.Dropout(0.1)\n",
    "        self.dropout2 = nn.Dropout(0.3)\n",
    "        self.fc1 = nn.Linear(400, 128)\n",
    "        self.fc2 = nn.Linear(128, n_classes)\n",
    "\n",
    "    def forward(self, x):\n",
    "        x = self.pool(F.relu(self.conv1(x)))\n",
    "        x = self.dropout1(x)\n",
    "        x = self.pool(F.relu(self.conv2(x)))\n",
    "        x = self.dropout2(x)\n",
    "        x = torch.flatten(x, start_dim=1)\n",
    "        x = F.relu(self.fc1(x))\n",
    "        x = self.fc2(x)\n",
    "        output = F.log_softmax(x, dim=1)\n",
    "        return output"
   ]
  },
  {
   "cell_type": "code",
   "execution_count": 10,
   "id": "4483372f",
   "metadata": {},
   "outputs": [],
   "source": [
    "def train(model, device, train_loader, optimizer, epoch, log_interval):\n",
    "    losses = []\n",
    "    model.train()\n",
    "    for batch_idx, (data, target) in enumerate(train_loader):\n",
    "        data, target = data.to(device), target.to(device)\n",
    "        optimizer.zero_grad()\n",
    "        output = model(data)\n",
    "        #print(output, target)\n",
    "        loss = F.nll_loss(output, target)\n",
    "        loss.backward()\n",
    "        optimizer.step()\n",
    "        if batch_idx % log_interval == 0:\n",
    "            print('Train Epoch: {} [{}/{} ({:.0f}%)]\\tLoss: {:.6f}'.format(\n",
    "                epoch, batch_idx * len(data), len(train_loader.dataset),\n",
    "                100. * batch_idx / len(train_loader), loss.item()))\n",
    "            losses.append(loss.item())\n",
    "    return losses"
   ]
  },
  {
   "cell_type": "code",
   "execution_count": 23,
   "id": "7b7de8cb",
   "metadata": {},
   "outputs": [],
   "source": [
    "def test(model, device, test_loader):\n",
    "    model.eval()\n",
    "    test_loss = 0\n",
    "    correct = 0\n",
    "    with torch.no_grad():\n",
    "        for data, target in test_loader:\n",
    "            data, target = data.to(device), target.to(device)\n",
    "            output = model(data)\n",
    "            test_loss += F.nll_loss(output, target, reduction='sum').item()  # sum up batch loss\n",
    "            pred = output.argmax(dim=1, keepdim=True)  # get the index of the max log-probability\n",
    "            correct += pred.eq(target.view_as(pred)).sum().item()\n",
    "\n",
    "    test_loss /= len(test_loader.dataset)\n",
    "\n",
    "    print('\\nTest set: Average loss: {:.4f}, Accuracy: {}/{} ({:.0f}%)\\n'.format(\n",
    "        test_loss, correct, len(test_loader.dataset),\n",
    "        100. * correct / len(test_loader.dataset)))\n",
    "    return [test_loss]"
   ]
  },
  {
   "cell_type": "markdown",
   "id": "4b15a9bd",
   "metadata": {},
   "source": [
    "### Main part"
   ]
  },
  {
   "cell_type": "markdown",
   "id": "ecab57ce",
   "metadata": {},
   "source": [
    "Variables describing the data"
   ]
  },
  {
   "cell_type": "code",
   "execution_count": 13,
   "id": "1bcd9383",
   "metadata": {},
   "outputs": [],
   "source": [
    "# Images will be 64x64\n",
    "img_dim = 28\n",
    "# Number of images taken for each animal\n",
    "n_images = 1000\n",
    "# Proportion used for to train the model\n",
    "train_prop = 0.8\n",
    "learning_rate = 1\n",
    "gamma = 0.7"
   ]
  },
  {
   "cell_type": "markdown",
   "id": "20e76da2",
   "metadata": {},
   "source": [
    "Store the classes in a dictionnary with their index"
   ]
  },
  {
   "cell_type": "code",
   "execution_count": 14,
   "id": "7a44a4f3",
   "metadata": {},
   "outputs": [
    {
     "name": "stdout",
     "output_type": "stream",
     "text": [
      "{0: 'axe', 1: 'bicycle'}\n"
     ]
    }
   ],
   "source": [
    "classes = load_classes(\"class_names.txt\")\n",
    "n_classes = len(classes)\n",
    "print(classes)"
   ]
  },
  {
   "cell_type": "markdown",
   "id": "971f8a54",
   "metadata": {},
   "source": [
    "\n",
    "\n",
    "The preprocess function do multiple thingd : <br>\n",
    "- Build the png images from the json files. Like this the PyTorch Dataset object will search the images directly in the files\n",
    "- Separate the dataset in train and test datasets by storing the names of the \n",
    "- Process the mean and the standard deviation and return it to later normalize the datasets"
   ]
  },
  {
   "cell_type": "code",
   "execution_count": 16,
   "id": "749b0f7e",
   "metadata": {},
   "outputs": [
    {
     "name": "stdout",
     "output_type": "stream",
     "text": [
      "Loading axe data\n",
      "Loading bicycle data\n"
     ]
    }
   ],
   "source": [
    "preprocess_data(classes, n_images=n_images, img_dim=img_dim, train_prop=train_prop, save_images = False)\n",
    "\n",
    "train_files = json.load(open(\"train_file_names.json\", 'r'))\n",
    "test_files = json.load(open(\"test_file_names.json\", 'r'))\n",
    "\n",
    "train_labels = json.load(open(\"train_labels.json\", 'r'))\n",
    "test_labels = json.load(open(\"test_labels.json\", 'r'))\n"
   ]
  },
  {
   "cell_type": "code",
   "execution_count": 19,
   "id": "bea32f24",
   "metadata": {},
   "outputs": [],
   "source": [
    "mean, std = calcMeanStd([train_files, test_files])"
   ]
  },
  {
   "cell_type": "markdown",
   "id": "5bb54f4b",
   "metadata": {},
   "source": [
    "Create the Datasets"
   ]
  },
  {
   "cell_type": "code",
   "execution_count": 20,
   "id": "cc81e370",
   "metadata": {},
   "outputs": [],
   "source": [
    "preprocess = transforms.Compose([\n",
    "        transforms.ToTensor(),\n",
    "        transforms.Normalize(mean, std)\n",
    "        ])\n",
    "\n",
    "preprocessNoNorm = transforms.Compose([\n",
    "        transforms.ToTensor(),\n",
    "        ])\n",
    "\n",
    "train_dataset = QuickDrawDataset(train_files, train_labels, transform=preprocessNoNorm)\n",
    "test_dataset = QuickDrawDataset(test_files, test_labels, transform=preprocessNoNorm)\n",
    "\n",
    "train_loader = torch.utils.data.DataLoader(train_dataset, batch_size = 1, shuffle=True)\n",
    "test_loader = torch.utils.data.DataLoader(test_dataset, batch_size = 1, shuffle=True)"
   ]
  },
  {
   "cell_type": "code",
   "execution_count": 21,
   "id": "752b7a34",
   "metadata": {},
   "outputs": [
    {
     "name": "stdout",
     "output_type": "stream",
     "text": [
      "torch.Size([1, 28, 28])\n"
     ]
    }
   ],
   "source": [
    "image = Image.open(\"images/axe/axe_0.png\")\n",
    "image = preprocess(image)\n",
    "print(image.shape)"
   ]
  },
  {
   "cell_type": "code",
   "execution_count": 24,
   "id": "7ec90670",
   "metadata": {},
   "outputs": [
    {
     "name": "stdout",
     "output_type": "stream",
     "text": [
      "Train Epoch: 1 [0/1600 (0%)]\tLoss: 0.799649\n",
      "Train Epoch: 1 [500/1600 (31%)]\tLoss: 0.924322\n",
      "Train Epoch: 1 [1000/1600 (62%)]\tLoss: 0.001329\n",
      "Train Epoch: 1 [1500/1600 (94%)]\tLoss: 0.000002\n",
      "\n",
      "Test set: Average loss: 0.0667, Accuracy: 392/400 (98%)\n",
      "\n",
      "Train Epoch: 2 [0/1600 (0%)]\tLoss: 0.000005\n",
      "Train Epoch: 2 [500/1600 (31%)]\tLoss: 0.000041\n",
      "Train Epoch: 2 [1000/1600 (62%)]\tLoss: 0.000000\n",
      "Train Epoch: 2 [1500/1600 (94%)]\tLoss: 0.013753\n",
      "\n",
      "Test set: Average loss: 0.0581, Accuracy: 393/400 (98%)\n",
      "\n",
      "Train Epoch: 3 [0/1600 (0%)]\tLoss: 0.000001\n",
      "Train Epoch: 3 [500/1600 (31%)]\tLoss: 0.000405\n",
      "Train Epoch: 3 [1000/1600 (62%)]\tLoss: 0.006745\n",
      "Train Epoch: 3 [1500/1600 (94%)]\tLoss: 0.001340\n",
      "\n",
      "Test set: Average loss: 0.0440, Accuracy: 395/400 (99%)\n",
      "\n",
      "Train Epoch: 4 [0/1600 (0%)]\tLoss: 0.000034\n",
      "Train Epoch: 4 [500/1600 (31%)]\tLoss: 3.028986\n",
      "Train Epoch: 4 [1000/1600 (62%)]\tLoss: 0.000047\n",
      "Train Epoch: 4 [1500/1600 (94%)]\tLoss: 0.000054\n",
      "\n",
      "Test set: Average loss: 0.0550, Accuracy: 392/400 (98%)\n",
      "\n",
      "Train Epoch: 5 [0/1600 (0%)]\tLoss: 0.000158\n",
      "Train Epoch: 5 [500/1600 (31%)]\tLoss: 0.000011\n",
      "Train Epoch: 5 [1000/1600 (62%)]\tLoss: 0.000011\n",
      "Train Epoch: 5 [1500/1600 (94%)]\tLoss: 0.080662\n",
      "\n",
      "Test set: Average loss: 0.0565, Accuracy: 393/400 (98%)\n",
      "\n",
      "Train Epoch: 6 [0/1600 (0%)]\tLoss: 0.000008\n"
     ]
    },
    {
     "ename": "KeyboardInterrupt",
     "evalue": "",
     "output_type": "error",
     "traceback": [
      "\u001b[1;31m---------------------------------------------------------------------------\u001b[0m",
      "\u001b[1;31mKeyboardInterrupt\u001b[0m                         Traceback (most recent call last)",
      "Cell \u001b[1;32mIn[24], line 15\u001b[0m\n\u001b[0;32m     12\u001b[0m test_losses \u001b[38;5;241m=\u001b[39m []\n\u001b[0;32m     14\u001b[0m \u001b[38;5;28;01mfor\u001b[39;00m epoch \u001b[38;5;129;01min\u001b[39;00m \u001b[38;5;28mrange\u001b[39m(\u001b[38;5;241m1\u001b[39m, epochs \u001b[38;5;241m+\u001b[39m \u001b[38;5;241m1\u001b[39m):\n\u001b[1;32m---> 15\u001b[0m     train_losses \u001b[38;5;241m+\u001b[39m\u001b[38;5;241m=\u001b[39m \u001b[43mtrain\u001b[49m\u001b[43m(\u001b[49m\u001b[43mmodel\u001b[49m\u001b[43m,\u001b[49m\u001b[43m \u001b[49m\u001b[43mdevice\u001b[49m\u001b[43m,\u001b[49m\u001b[43m \u001b[49m\u001b[43mtrain_loader\u001b[49m\u001b[43m,\u001b[49m\u001b[43m \u001b[49m\u001b[43moptimizer\u001b[49m\u001b[43m,\u001b[49m\u001b[43m \u001b[49m\u001b[43mepoch\u001b[49m\u001b[43m,\u001b[49m\u001b[43m \u001b[49m\u001b[43mlog_interval\u001b[49m\u001b[43m)\u001b[49m\n\u001b[0;32m     16\u001b[0m     loss \u001b[38;5;241m=\u001b[39m test(model, device, test_loader)\n\u001b[0;32m     17\u001b[0m     test_losses\u001b[38;5;241m.\u001b[39mappend(loss)\n",
      "Cell \u001b[1;32mIn[10], line 9\u001b[0m, in \u001b[0;36mtrain\u001b[1;34m(model, device, train_loader, optimizer, epoch, log_interval)\u001b[0m\n\u001b[0;32m      7\u001b[0m output \u001b[38;5;241m=\u001b[39m model(data)\n\u001b[0;32m      8\u001b[0m \u001b[38;5;66;03m#print(output, target)\u001b[39;00m\n\u001b[1;32m----> 9\u001b[0m loss \u001b[38;5;241m=\u001b[39m \u001b[43mF\u001b[49m\u001b[38;5;241m.\u001b[39mnll_loss(output, target)\n\u001b[0;32m     10\u001b[0m loss\u001b[38;5;241m.\u001b[39mbackward()\n\u001b[0;32m     11\u001b[0m optimizer\u001b[38;5;241m.\u001b[39mstep()\n",
      "\u001b[1;31mKeyboardInterrupt\u001b[0m: "
     ]
    }
   ],
   "source": [
    "model = Net(n_classes)\n",
    "\n",
    "optimizer = optim.Adadelta(model.parameters(), lr=learning_rate)\n",
    "scheduler = StepLR(optimizer, step_size=1, gamma=gamma)\n",
    "\n",
    "device = torch.device(\"cuda\" if torch.cuda.is_available() else \"cpu\")\n",
    "model.to(device)\n",
    "\n",
    "epochs = 12\n",
    "log_interval = 500\n",
    "train_losses = []\n",
    "test_losses = []\n",
    "\n",
    "for epoch in range(1, epochs + 1):\n",
    "    train_losses += train(model, device, train_loader, optimizer, epoch, log_interval)\n",
    "    loss = test(model, device, test_loader)\n",
    "    test_losses.append(loss)\n",
    "    scheduler.step()"
   ]
  },
  {
   "cell_type": "code",
   "execution_count": 37,
   "id": "298c4e86",
   "metadata": {},
   "outputs": [
    {
     "data": {
      "image/png": "[encoded data removed]",
      "text/plain": [
       "<Figure size 640x480 with 1 Axes>"
      ]
     },
     "metadata": {},
     "output_type": "display_data"
    },
    {
     "data": {
      "image/png": "[encoded data removed]",
      "text/plain": [
       "<Figure size 640x480 with 1 Axes>"
      ]
     },
     "metadata": {},
     "output_type": "display_data"
    }
   ],
   "source": [
    "plt.plot(train_losses, label='Training loss')\n",
    "plt.plot(test_losses, label='Validation loss')\n",
    "plt.show()"
   ]
  },
  {
   "cell_type": "markdown",
   "id": "00552653",
   "metadata": {},
   "source": [
    "For the datas :\n",
    "- sort to keep only the recognized drawings\n",
    "\n",
    "For the CNN:\n",
    "- (batch normailzation)\n",
    "- conv relu pooling conv relu pooling dropout\n",
    "\n",
    "For vizualization and documentation:\n",
    "- learning rate\n",
    "- batch size\n",
    "- number of epochs\n",
    "\n",
    "- Confusion Matrix\n",
    "- evolution of the error with epochs\n"
   ]
  },
  {
   "cell_type": "markdown",
   "id": "c5184791",
   "metadata": {},
   "source": [
    "### The model"
   ]
  },
  {
   "cell_type": "code",
   "execution_count": null,
   "id": "902bd913",
   "metadata": {},
   "outputs": [],
   "source": []
  }
 ],
 "metadata": {
  "kernelspec": {
   "display_name": "Python 3",
   "language": "python",
   "name": "python3"
  },
  "language_info": {
   "codemirror_mode": {
    "name": "ipython",
    "version": 3
   },
   "file_extension": ".py",
   "mimetype": "text/x-python",
   "name": "python",
   "nbconvert_exporter": "python",
   "pygments_lexer": "ipython3",
   "version": "3.9.18"
  }
 },
 "nbformat": 4,
 "nbformat_minor": 5
}
