{
 "cells": [
  {
   "cell_type": "markdown",
   "id": "422d22ed",
   "metadata": {},
   "source": [
    "# Classification based on Quickdraw Dataset"
   ]
  },
  {
   "cell_type": "markdown",
   "id": "31e5a6d2",
   "metadata": {},
   "source": [
    "### Imports"
   ]
  },
  {
   "cell_type": "code",
   "execution_count": 71,
   "id": "82f4cedf",
   "metadata": {},
   "outputs": [],
   "source": [
    "import random\n",
    "import json\n",
    "import numpy as np\n",
    "import cairocffi as cairo\n",
    "import os\n",
    "from PIL import Image"
   ]
  },
  {
   "cell_type": "markdown",
   "id": "d25f5491",
   "metadata": {},
   "source": [
    "### The Dataset"
   ]
  },
  {
   "cell_type": "code",
   "execution_count": 72,
   "id": "ce77a551",
   "metadata": {},
   "outputs": [],
   "source": [
    "# Get the classes that will be used\n",
    "def load_classes(file_path):\n",
    "    res = {}\n",
    "    count = 0\n",
    "    for line in open(file_path, 'r'):\n",
    "        res[line] = count\n",
    "        count+=1\n",
    "    return res"
   ]
  },
  {
   "cell_type": "code",
   "execution_count": 73,
   "id": "e563c60b",
   "metadata": {},
   "outputs": [],
   "source": [
    "### The code is taken from the original GitHub of the QuickDrawDataset\n",
    "def vector_to_raster(vector_images, side=64, line_diameter=16, padding=16, bg_color=(0,0,0), fg_color=(1,1,1)):\n",
    "    \"\"\"\n",
    "    padding and line_diameter are relative to the original 256x256 image.\n",
    "    \"\"\"\n",
    "    \n",
    "    original_side = 256.\n",
    "    \n",
    "    surface = cairo.ImageSurface(cairo.FORMAT_ARGB32, side, side)\n",
    "    ctx = cairo.Context(surface)\n",
    "    ctx.set_antialias(cairo.ANTIALIAS_BEST)\n",
    "    ctx.set_line_cap(cairo.LINE_CAP_ROUND)\n",
    "    ctx.set_line_join(cairo.LINE_JOIN_ROUND)\n",
    "    ctx.set_line_width(line_diameter)\n",
    "\n",
    "    # scale to match the new size\n",
    "    # add padding at the edges for the line_diameter\n",
    "    # and add additional padding to account for antialiasing\n",
    "    total_padding = padding * 2. + line_diameter\n",
    "    new_scale = float(side) / float(original_side + total_padding)\n",
    "    ctx.scale(new_scale, new_scale)\n",
    "    ctx.translate(total_padding / 2., total_padding / 2.)\n",
    "\n",
    "    raster_images = []\n",
    "    for vector_image in vector_images:\n",
    "        # clear background\n",
    "        ctx.set_source_rgb(*bg_color)\n",
    "        ctx.paint()\n",
    "        \n",
    "        bbox = np.hstack(vector_image).max(axis=1)\n",
    "        offset = ((original_side, original_side) - bbox) / 2.\n",
    "        offset = offset.reshape(-1,1)\n",
    "        centered = [stroke + offset for stroke in vector_image]\n",
    "\n",
    "        # draw strokes, this is the most cpu-intensive part\n",
    "        ctx.set_source_rgb(*fg_color)        \n",
    "        for xv, yv in centered:\n",
    "            ctx.move_to(xv[0], yv[0])\n",
    "            for x, y in zip(xv, yv):\n",
    "                ctx.line_to(x, y)\n",
    "            ctx.stroke()\n",
    "\n",
    "        data = surface.get_data()\n",
    "        raster_image = np.copy(np.asarray(data)[::4])\n",
    "        raster_images.append(raster_image)\n",
    "    \n",
    "    return raster_images"
   ]
  },
  {
   "cell_type": "code",
   "execution_count": 74,
   "id": "5077e895",
   "metadata": {},
   "outputs": [],
   "source": [
    "def load_data(sample, n_images, dimension):\n",
    "    sample_data = [json.loads(line) for line in open(f'data/full_simplified_{sample}.ndjson', 'r')]\n",
    "    sample_data = random.choices(sample_data, k=n_images)\n",
    "    vector_images = [drawing_data['drawing'] for drawing_data in sample_data]\n",
    "    return vector_to_raster(vector_images, side=dimension)"
   ]
  },
  {
   "cell_type": "code",
   "execution_count": 83,
   "id": "3072289a",
   "metadata": {},
   "outputs": [],
   "source": [
    "def save_png(drawing_class, data, dimension):\n",
    "    if not os.path.exists(f\"images/{drawing_class}\"): \n",
    "        os.makedirs(f\"images/{drawing_class}\")\n",
    "    \n",
    "    count = 0\n",
    "    for image_arr in data:\n",
    "        image_arr = np.reshape(image_arr, (dimension, -1))\n",
    "        img = Image.fromarray(image_arr, \"L\")\n",
    "        img.save(f\"images/{drawing_class}/axe_{count}.png\")\n",
    "        count += 1"
   ]
  },
  {
   "cell_type": "code",
   "execution_count": 85,
   "id": "68beaa17",
   "metadata": {},
   "outputs": [],
   "source": [
    "img_dim = 64\n",
    "classes = load_classes(\"class_names.txt\")\n",
    "for drawing_class in classes:\n",
    "    data = load_data(drawing_class, 2, dimension = img_dim)\n",
    "    save_png(drawing_class, data, dimension = img_dim)\n",
    "    "
   ]
  },
  {
   "cell_type": "markdown",
   "id": "15a4d7a8",
   "metadata": {},
   "source": [
    "For the datas :\n",
    "- load in arrays\n",
    "- sort to keep only the recognized drawings\n",
    "- (save the arrays)\n",
    "- (possibility to save in png)"
   ]
  },
  {
   "cell_type": "code",
   "execution_count": null,
   "id": "5ffbb886",
   "metadata": {},
   "outputs": [],
   "source": []
  }
 ],
 "metadata": {
  "kernelspec": {
   "display_name": "Python 3",
   "language": "python",
   "name": "python3"
  },
  "language_info": {
   "codemirror_mode": {
    "name": "ipython",
    "version": 3
   },
   "file_extension": ".py",
   "mimetype": "text/x-python",
   "name": "python",
   "nbconvert_exporter": "python",
   "pygments_lexer": "ipython3",
   "version": "3.8.8"
  }
 },
 "nbformat": 4,
 "nbformat_minor": 5
}
